{
 "cells": [
  {
   "cell_type": "code",
   "execution_count": null,
   "id": "0b92248b",
   "metadata": {},
   "outputs": [],
   "source": [
    " import os, sys\n",
    " if 'SUMO_HOME' in os.environ:\n",
    "     tools = os.path.join(os.environ['SUMO_HOME'], 'tools')\n",
    "     sys.path.append(tools)\n",
    " else:\n",
    "     sys.exit(\"please declare environment variable 'SUMO_HOME'\")"
   ]
  },
  {
   "cell_type": "code",
   "execution_count": null,
   "id": "884c892e",
   "metadata": {},
   "outputs": [],
   "source": [
    "sumoBinary = \"/opt/homebrew/opt/sumo/share/sumo/bin/sumo-gui\"\n",
    "sumoCmd = [sumoBinary, \"-c\", \"sumo_simulation.sumocfg\"]"
   ]
  },
  {
   "cell_type": "code",
   "execution_count": null,
   "id": "0fbf23eb",
   "metadata": {},
   "outputs": [],
   "source": [
    "import traci\n",
    "import traci.constants as tc\n",
    "\n",
    "traci.start(sumoCmd)\n",
    "\n",
    "traci.vehicle.setSpeedMode(\"vehicle_0\", 32) # all checks off\n",
    "#traci.vehicle.setSpeed(\"vehicle_0\", 23.45)\n",
    "\n",
    "for step in range(1000):\n",
    "    print(\"step\", step)\n",
    "\n",
    "    traci.simulationStep()\n",
    "    traci.vehicle.setStop(vehID=\"vehicle_0\", edgeID=\"gneE48\", pos=22.60, laneIndex=0, duration=189999999999, flags=0, startPos=0)\n",
    "    print(\"Stop state:\", traci.vehicle.getStopState(\"vehicle_0\"))\n",
    "    if step == 30:\n",
    "        traci.vehicle.resume(\"vehicle_0\")\n",
    "\n",
    "traci.close()"
   ]
  },
  {
   "cell_type": "code",
   "execution_count": 1,
   "id": "16f08225",
   "metadata": {},
   "outputs": [],
   "source": [
    "from sumo_gym.utils.sumo_utils import *\n",
    "import traci"
   ]
  },
  {
   "cell_type": "code",
   "execution_count": 2,
   "id": "929155df",
   "metadata": {},
   "outputs": [],
   "source": [
    "newSumo = SumoInteractionSingleton(sumo_config=\"sumo_simulation.sumocfg\")\n"
   ]
  },
  {
   "cell_type": "code",
   "execution_count": 3,
   "id": "f0244249",
   "metadata": {},
   "outputs": [],
   "source": [
    "newSumo.addVehicle([\"veh0\"], [\"gneE48\"])"
   ]
  },
  {
   "cell_type": "code",
   "execution_count": 19,
   "id": "764d568a",
   "metadata": {},
   "outputs": [],
   "source": [
    "newSumo.simStep()"
   ]
  },
  {
   "cell_type": "code",
   "execution_count": 17,
   "id": "6aa31a76",
   "metadata": {},
   "outputs": [
    {
     "ename": "TraCIException",
     "evalue": "Stop replacement failed for vehicle 'veh0' (Cannot replace reached stop).",
     "output_type": "error",
     "traceback": [
      "\u001B[1;31m---------------------------------------------------------------------------\u001B[0m",
      "\u001B[1;31mTraCIException\u001B[0m                            Traceback (most recent call last)",
      "\u001B[1;32m~\\AppData\\Local\\Temp/ipykernel_134852/1572905800.py\u001B[0m in \u001B[0;36m<module>\u001B[1;34m\u001B[0m\n\u001B[1;32m----> 1\u001B[1;33m \u001B[0mnewSumo\u001B[0m\u001B[1;33m.\u001B[0m\u001B[0mupdateStop\u001B[0m\u001B[1;33m(\u001B[0m\u001B[1;33m[\u001B[0m\u001B[1;34m\"veh0\"\u001B[0m\u001B[1;33m]\u001B[0m\u001B[1;33m,\u001B[0m \u001B[1;33m[\u001B[0m\u001B[1;34m\"gneE13\"\u001B[0m\u001B[1;33m]\u001B[0m\u001B[1;33m)\u001B[0m\u001B[1;33m\u001B[0m\u001B[1;33m\u001B[0m\u001B[0m\n\u001B[0m\u001B[0;32m      2\u001B[0m \u001B[0mnewSumo\u001B[0m\u001B[1;33m.\u001B[0m\u001B[0msimStep\u001B[0m\u001B[1;33m(\u001B[0m\u001B[1;33m)\u001B[0m\u001B[1;33m\u001B[0m\u001B[1;33m\u001B[0m\u001B[0m\n",
      "\u001B[1;32m~\\GitProjects\\sumo-gym\\src\\sumo_gym\\utils\\sumo_utils.py\u001B[0m in \u001B[0;36mupdateStop\u001B[1;34m(self, vehicles, locations)\u001B[0m\n\u001B[0;32m     49\u001B[0m \u001B[1;33m\u001B[0m\u001B[0m\n\u001B[0;32m     50\u001B[0m                 \u001B[1;32mif\u001B[0m \u001B[0mtraci\u001B[0m\u001B[1;33m.\u001B[0m\u001B[0mvehicle\u001B[0m\u001B[1;33m.\u001B[0m\u001B[0misStopped\u001B[0m\u001B[1;33m(\u001B[0m\u001B[0mstr\u001B[0m\u001B[1;33m(\u001B[0m\u001B[0mvehicle\u001B[0m\u001B[1;33m)\u001B[0m\u001B[1;33m)\u001B[0m\u001B[1;33m:\u001B[0m\u001B[1;33m\u001B[0m\u001B[1;33m\u001B[0m\u001B[0m\n\u001B[1;32m---> 51\u001B[1;33m                     \u001B[0mtraci\u001B[0m\u001B[1;33m.\u001B[0m\u001B[0mvehicle\u001B[0m\u001B[1;33m.\u001B[0m\u001B[0mreplaceStop\u001B[0m\u001B[1;33m(\u001B[0m\u001B[0mstr\u001B[0m\u001B[1;33m(\u001B[0m\u001B[0mvehicle\u001B[0m\u001B[1;33m)\u001B[0m\u001B[1;33m,\u001B[0m \u001B[1;36m0\u001B[0m\u001B[1;33m,\u001B[0m \u001B[0mstop\u001B[0m\u001B[1;33m,\u001B[0m \u001B[0mduration\u001B[0m\u001B[1;33m=\u001B[0m\u001B[0mfloat\u001B[0m\u001B[1;33m(\u001B[0m\u001B[1;34m'inf'\u001B[0m\u001B[1;33m)\u001B[0m\u001B[1;33m)\u001B[0m\u001B[1;33m\u001B[0m\u001B[1;33m\u001B[0m\u001B[0m\n\u001B[0m\u001B[0;32m     52\u001B[0m                     \u001B[1;31m#traci.vehicle.setStop(str(vehicle), )\u001B[0m\u001B[1;33m\u001B[0m\u001B[1;33m\u001B[0m\u001B[1;33m\u001B[0m\u001B[0m\n\u001B[0;32m     53\u001B[0m                 \u001B[1;32melse\u001B[0m\u001B[1;33m:\u001B[0m\u001B[1;33m\u001B[0m\u001B[1;33m\u001B[0m\u001B[0m\n",
      "\u001B[1;32mC:\\Program Files (x86)\\Eclipse\\Sumo\\tools\\traci\\_vehicle.py\u001B[0m in \u001B[0;36mreplaceStop\u001B[1;34m(self, vehID, nextStopIndex, edgeID, pos, laneIndex, duration, flags, startPos, until, teleport)\u001B[0m\n\u001B[0;32m   1101\u001B[0m         \u001B[0mnextStopIndex\u001B[0m \u001B[1;33m-\u001B[0m \u001B[1;36m1\u001B[0m \u001B[1;32mand\u001B[0m \u001B[0mthe\u001B[0m \u001B[0mnew\u001B[0m \u001B[0mstop\u001B[0m\u001B[1;33m.\u001B[0m\u001B[1;33m\u001B[0m\u001B[1;33m\u001B[0m\u001B[0m\n\u001B[0;32m   1102\u001B[0m         \"\"\"\n\u001B[1;32m-> 1103\u001B[1;33m         self._setCmd(tc.CMD_REPLACE_STOP, vehID, \"tsdbdiddib\", 9, edgeID, pos,\n\u001B[0m\u001B[0;32m   1104\u001B[0m                      laneIndex, duration, flags, startPos, until, nextStopIndex, teleport)\n\u001B[0;32m   1105\u001B[0m \u001B[1;33m\u001B[0m\u001B[0m\n",
      "\u001B[1;32mC:\\Program Files (x86)\\Eclipse\\Sumo\\tools\\traci\\domain.py\u001B[0m in \u001B[0;36m_setCmd\u001B[1;34m(self, varID, objectID, format, *values)\u001B[0m\n\u001B[0;32m    187\u001B[0m         \u001B[1;32mif\u001B[0m \u001B[0mself\u001B[0m\u001B[1;33m.\u001B[0m\u001B[0m_connection\u001B[0m \u001B[1;32mis\u001B[0m \u001B[1;32mNone\u001B[0m\u001B[1;33m:\u001B[0m\u001B[1;33m\u001B[0m\u001B[1;33m\u001B[0m\u001B[0m\n\u001B[0;32m    188\u001B[0m             \u001B[1;32mraise\u001B[0m \u001B[0mFatalTraCIError\u001B[0m\u001B[1;33m(\u001B[0m\u001B[1;34m\"Not connected.\"\u001B[0m\u001B[1;33m)\u001B[0m\u001B[1;33m\u001B[0m\u001B[1;33m\u001B[0m\u001B[0m\n\u001B[1;32m--> 189\u001B[1;33m         \u001B[0mself\u001B[0m\u001B[1;33m.\u001B[0m\u001B[0m_connection\u001B[0m\u001B[1;33m.\u001B[0m\u001B[0m_sendCmd\u001B[0m\u001B[1;33m(\u001B[0m\u001B[0mself\u001B[0m\u001B[1;33m.\u001B[0m\u001B[0m_cmdSetID\u001B[0m\u001B[1;33m,\u001B[0m \u001B[0mvarID\u001B[0m\u001B[1;33m,\u001B[0m \u001B[0mobjectID\u001B[0m\u001B[1;33m,\u001B[0m \u001B[0mformat\u001B[0m\u001B[1;33m,\u001B[0m \u001B[1;33m*\u001B[0m\u001B[0mvalues\u001B[0m\u001B[1;33m)\u001B[0m\u001B[1;33m\u001B[0m\u001B[1;33m\u001B[0m\u001B[0m\n\u001B[0m\u001B[0;32m    190\u001B[0m \u001B[1;33m\u001B[0m\u001B[0m\n\u001B[0;32m    191\u001B[0m     \u001B[1;32mdef\u001B[0m \u001B[0mgetIDList\u001B[0m\u001B[1;33m(\u001B[0m\u001B[0mself\u001B[0m\u001B[1;33m)\u001B[0m\u001B[1;33m:\u001B[0m\u001B[1;33m\u001B[0m\u001B[1;33m\u001B[0m\u001B[0m\n",
      "\u001B[1;32mC:\\Program Files (x86)\\Eclipse\\Sumo\\tools\\traci\\connection.py\u001B[0m in \u001B[0;36m_sendCmd\u001B[1;34m(self, cmdID, varID, objID, format, *values)\u001B[0m\n\u001B[0;32m    179\u001B[0m             \u001B[0mself\u001B[0m\u001B[1;33m.\u001B[0m\u001B[0m_string\u001B[0m \u001B[1;33m+=\u001B[0m \u001B[0mstruct\u001B[0m\u001B[1;33m.\u001B[0m\u001B[0mpack\u001B[0m\u001B[1;33m(\u001B[0m\u001B[1;34m\"!i\"\u001B[0m\u001B[1;33m,\u001B[0m \u001B[0mlen\u001B[0m\u001B[1;33m(\u001B[0m\u001B[0mobjID\u001B[0m\u001B[1;33m)\u001B[0m\u001B[1;33m)\u001B[0m \u001B[1;33m+\u001B[0m \u001B[0mobjID\u001B[0m\u001B[1;33m.\u001B[0m\u001B[0mencode\u001B[0m\u001B[1;33m(\u001B[0m\u001B[1;34m\"latin1\"\u001B[0m\u001B[1;33m)\u001B[0m\u001B[1;33m\u001B[0m\u001B[1;33m\u001B[0m\u001B[0m\n\u001B[0;32m    180\u001B[0m         \u001B[0mself\u001B[0m\u001B[1;33m.\u001B[0m\u001B[0m_string\u001B[0m \u001B[1;33m+=\u001B[0m \u001B[0mpacked\u001B[0m\u001B[1;33m\u001B[0m\u001B[1;33m\u001B[0m\u001B[0m\n\u001B[1;32m--> 181\u001B[1;33m         \u001B[1;32mreturn\u001B[0m \u001B[0mself\u001B[0m\u001B[1;33m.\u001B[0m\u001B[0m_sendExact\u001B[0m\u001B[1;33m(\u001B[0m\u001B[1;33m)\u001B[0m\u001B[1;33m\u001B[0m\u001B[1;33m\u001B[0m\u001B[0m\n\u001B[0m\u001B[0;32m    182\u001B[0m \u001B[1;33m\u001B[0m\u001B[0m\n\u001B[0;32m    183\u001B[0m     \u001B[1;32mdef\u001B[0m \u001B[0m_readSubscription\u001B[0m\u001B[1;33m(\u001B[0m\u001B[0mself\u001B[0m\u001B[1;33m,\u001B[0m \u001B[0mresult\u001B[0m\u001B[1;33m)\u001B[0m\u001B[1;33m:\u001B[0m\u001B[1;33m\u001B[0m\u001B[1;33m\u001B[0m\u001B[0m\n",
      "\u001B[1;32mC:\\Program Files (x86)\\Eclipse\\Sumo\\tools\\traci\\connection.py\u001B[0m in \u001B[0;36m_sendExact\u001B[1;34m(self)\u001B[0m\n\u001B[0;32m     96\u001B[0m                 \u001B[0mself\u001B[0m\u001B[1;33m.\u001B[0m\u001B[0m_string\u001B[0m \u001B[1;33m=\u001B[0m \u001B[0mbytes\u001B[0m\u001B[1;33m(\u001B[0m\u001B[1;33m)\u001B[0m\u001B[1;33m\u001B[0m\u001B[1;33m\u001B[0m\u001B[0m\n\u001B[0;32m     97\u001B[0m                 \u001B[0mself\u001B[0m\u001B[1;33m.\u001B[0m\u001B[0m_queue\u001B[0m \u001B[1;33m=\u001B[0m \u001B[1;33m[\u001B[0m\u001B[1;33m]\u001B[0m\u001B[1;33m\u001B[0m\u001B[1;33m\u001B[0m\u001B[0m\n\u001B[1;32m---> 98\u001B[1;33m                 \u001B[1;32mraise\u001B[0m \u001B[0mTraCIException\u001B[0m\u001B[1;33m(\u001B[0m\u001B[0merr\u001B[0m\u001B[1;33m,\u001B[0m \u001B[0mprefix\u001B[0m\u001B[1;33m[\u001B[0m\u001B[1;36m1\u001B[0m\u001B[1;33m]\u001B[0m\u001B[1;33m,\u001B[0m \u001B[0m_RESULTS\u001B[0m\u001B[1;33m[\u001B[0m\u001B[0mprefix\u001B[0m\u001B[1;33m[\u001B[0m\u001B[1;36m2\u001B[0m\u001B[1;33m]\u001B[0m\u001B[1;33m]\u001B[0m\u001B[1;33m)\u001B[0m\u001B[1;33m\u001B[0m\u001B[1;33m\u001B[0m\u001B[0m\n\u001B[0m\u001B[0;32m     99\u001B[0m             \u001B[1;32melif\u001B[0m \u001B[0mprefix\u001B[0m\u001B[1;33m[\u001B[0m\u001B[1;36m1\u001B[0m\u001B[1;33m]\u001B[0m \u001B[1;33m!=\u001B[0m \u001B[0mcommand\u001B[0m\u001B[1;33m:\u001B[0m\u001B[1;33m\u001B[0m\u001B[1;33m\u001B[0m\u001B[0m\n\u001B[0;32m    100\u001B[0m                 \u001B[1;32mraise\u001B[0m \u001B[0mFatalTraCIError\u001B[0m\u001B[1;33m(\u001B[0m\u001B[1;34m\"Received answer %s for command %s.\"\u001B[0m \u001B[1;33m%\u001B[0m \u001B[1;33m(\u001B[0m\u001B[0mprefix\u001B[0m\u001B[1;33m[\u001B[0m\u001B[1;36m1\u001B[0m\u001B[1;33m]\u001B[0m\u001B[1;33m,\u001B[0m \u001B[0mcommand\u001B[0m\u001B[1;33m)\u001B[0m\u001B[1;33m)\u001B[0m\u001B[1;33m\u001B[0m\u001B[1;33m\u001B[0m\u001B[0m\n",
      "\u001B[1;31mTraCIException\u001B[0m: Stop replacement failed for vehicle 'veh0' (Cannot replace reached stop)."
     ]
    }
   ],
   "source": [
    "newSumo.updateStop([\"veh0\"], [\"gneE13\"])\n",
    "newSumo.simStep()"
   ]
  },
  {
   "cell_type": "code",
   "execution_count": 16,
   "id": "0444c02b",
   "metadata": {},
   "outputs": [
    {
     "name": "stdout",
     "output_type": "stream",
     "text": [
      "(StopData(lane=gneE48_0, startPos=0.9, endPos=1.0, stopFlags=0, duration=9223372036854770.0, arrival=1.0), StopData(lane=gneE13_0, startPos=0.9, endPos=1.0, stopFlags=0, duration=-9223372036854776.0))\n",
      "True\n",
      "('gneE48', 'gneE13')\n"
     ]
    },
    {
     "data": {
      "text/plain": [
       "[]"
      ]
     },
     "execution_count": 16,
     "metadata": {},
     "output_type": "execute_result"
    }
   ],
   "source": [
    "print(traci.vehicle.getStops(\"veh0\"))\n",
    "print(traci.vehicle.isStopped(\"veh0\"))\n",
    "print(traci.vehicle.getRoute(\"veh0\"))\n",
    "traci.simulationStep()"
   ]
  },
  {
   "cell_type": "code",
   "execution_count": null,
   "id": "0ac38892",
   "metadata": {},
   "outputs": [],
   "source": [
    "newSumo.endSim()"
   ]
  },
  {
   "cell_type": "code",
   "execution_count": null,
   "id": "f5f15f8e",
   "metadata": {},
   "outputs": [],
   "source": []
  }
 ],
 "metadata": {
  "kernelspec": {
   "display_name": "Python 3 (ipykernel)",
   "language": "python",
   "name": "python3"
  },
  "language_info": {
   "codemirror_mode": {
    "name": "ipython",
    "version": 3
   },
   "file_extension": ".py",
   "mimetype": "text/x-python",
   "name": "python",
   "nbconvert_exporter": "python",
   "pygments_lexer": "ipython3",
   "version": "3.8.10"
  }
 },
 "nbformat": 4,
 "nbformat_minor": 5
}