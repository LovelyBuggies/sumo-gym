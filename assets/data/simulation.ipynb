{
 "cells": [
  {
   "cell_type": "code",
   "execution_count": 1,
   "id": "0b92248b",
   "metadata": {},
   "outputs": [],
   "source": [
    " import os, sys\n",
    " if 'SUMO_HOME' in os.environ:\n",
    "     tools = os.path.join(os.environ['SUMO_HOME'], 'tools')\n",
    "     sys.path.append(tools)\n",
    " else:\n",
    "     sys.exit(\"please declare environment variable 'SUMO_HOME'\")"
   ]
  },
  {
   "cell_type": "code",
   "execution_count": 2,
   "id": "884c892e",
   "metadata": {},
   "outputs": [],
   "source": [
    "sumoBinary = \"/opt/homebrew/opt/sumo/share/sumo/bin/sumo-gui\"\n",
    "sumoCmd = [sumoBinary, \"-c\", \"hello.sumocfg\"]"
   ]
  },
  {
   "cell_type": "code",
   "execution_count": null,
   "id": "0fbf23eb",
   "metadata": {},
   "outputs": [
    {
     "name": "stdout",
     "output_type": "stream",
     "text": [
      " Retrying in 1 seconds\n",
      "step 0\n",
      "step 1\n",
      "step 2\n",
      "step 3\n",
      "step 4\n"
     ]
    }
   ],
   "source": [
    "import traci\n",
    "import traci.constants as tc\n",
    "\n",
    "traci.start(sumoCmd)\n",
    "# step = 0\n",
    "# while step < 1000:\n",
    "#    traci.simulationStep()\n",
    "#    if traci.inductionloop.getLastStepVehicleNumber(\"0\") > 0:\n",
    "#        traci.trafficlight.setRedYellowGreenState(\"0\", \"GrGr\")\n",
    "#    step += 1\n",
    "\n",
    "# traci.close()\n",
    "\n",
    "\n",
    "for step in range(1000):\n",
    "   print(\"step\", step)\n",
    "   traci.simulationStep()\n",
    "\n",
    "traci.close()\n",
    "\n"
   ]
  },
  {
   "cell_type": "code",
   "execution_count": null,
   "id": "16f08225",
   "metadata": {},
   "outputs": [],
   "source": []
  }
 ],
 "metadata": {
  "kernelspec": {
   "display_name": "Python 3",
   "language": "python",
   "name": "python3"
  },
  "language_info": {
   "codemirror_mode": {
    "name": "ipython",
    "version": 3
   },
   "file_extension": ".py",
   "mimetype": "text/x-python",
   "name": "python",
   "nbconvert_exporter": "python",
   "pygments_lexer": "ipython3",
   "version": "3.9.5"
  }
 },
 "nbformat": 4,
 "nbformat_minor": 5
}